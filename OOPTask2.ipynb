{
  "nbformat": 4,
  "nbformat_minor": 0,
  "metadata": {
    "colab": {
      "name": "OOPTask2",
      "provenance": [],
      "authorship_tag": "ABX9TyOilDQn3lfxOWloqLzbAhFk",
      "include_colab_link": true
    },
    "kernelspec": {
      "name": "python3",
      "display_name": "Python 3"
    },
    "language_info": {
      "name": "python"
    }
  },
  "cells": [
    {
      "cell_type": "markdown",
      "metadata": {
        "id": "view-in-github",
        "colab_type": "text"
      },
      "source": [
        "<a href=\"https://colab.research.google.com/github/Venkatasainikhil22/OOPTask2/blob/main/OOPTask2.ipynb\" target=\"_parent\"><img src=\"https://colab.research.google.com/assets/colab-badge.svg\" alt=\"Open In Colab\"/></a>"
      ]
    },
    {
      "cell_type": "code",
      "metadata": {
        "colab": {
          "base_uri": "https://localhost:8080/",
          "height": 0
        },
        "id": "srig-qogSllN",
        "outputId": "f2d1a3ea-c34c-47cd-b51a-ef5776e4b5bc"
      },
      "source": [
        "#1st question\n",
        "import math as m \n",
        "class circle:\n",
        "    def __init__(self,R):\n",
        "      self.radius = R\n",
        "    \n",
        "    def area (self):\n",
        "      return self.radius**2*m.pi\n",
        "\n",
        "    def perimeter(self):\n",
        "      return self.radius*2*m.pi\n",
        "\n",
        "newcircle = circle(4)\n",
        "print(\"Area of the cicle:\", newcircle.area())\n",
        "print(\"Perimeter of the cicle:\", newcircle.perimeter())"
      ],
      "execution_count": 1,
      "outputs": [
        {
          "output_type": "stream",
          "name": "stdout",
          "text": [
            "Area of the cicle: 50.26548245743669\n",
            "Perimeter of the cicle: 25.132741228718345\n"
          ]
        }
      ]
    },
    {
      "cell_type": "code",
      "metadata": {
        "colab": {
          "base_uri": "https://localhost:8080/",
          "height": 0
        },
        "id": "7ZZb1d-BdIkN",
        "outputId": "0d707f66-1193-4004-cdbe-daef24df7ab0"
      },
      "source": [
        "#2nd question\n",
        "class Faculty:\n",
        "\n",
        "    def setData(self):\n",
        "        self.name = input(\"Enter the name of the Employee : \") \n",
        "        self.emp_ID = int(input(\"Enter the employee ID : \"))\n",
        "        self.branch = input(\"Enter the branch : \")\n",
        "        self.salary = int(input(\"Enter the salary : \"))\n",
        "\n",
        "    def getData(self):\n",
        "      print(f\"Name:        \", {self.name})\n",
        "      print(f\"Employee ID: \", {self.emp_ID})\n",
        "      print(f\"Branch:      \", {self.branch})\n",
        "      print(f\"Salary:      \", {self.salary})\n",
        "\n",
        "      return self.name, self.emp_ID, self.branch, self.salary\n",
        "\n",
        "list_Faculty = []\n",
        "for i in range(5):\n",
        "    temp = Faculty()\n",
        "    print(f\"\\nEnter the data for employee {i+1}  : \")\n",
        "    temp.setData()\n",
        "    list_Faculty.append(temp)   #199201 199777 199333\n",
        "\n",
        "for i in range(0, 5):\n",
        "    print(f\"\\nData of employee {i+1}  : \")\n",
        "    list_Faculty[i].getData()"
      ],
      "execution_count": 10,
      "outputs": [
        {
          "output_type": "stream",
          "name": "stdout",
          "text": [
            "\n",
            "Enter the data for employee 1  : \n",
            "Enter the name of the Employee : Virat\n",
            "Enter the employee ID : 198918\n",
            "Enter the branch : cse\n",
            "Enter the salary : 15000\n",
            "\n",
            "Enter the data for employee 2  : \n",
            "Enter the name of the Employee : Rohit\n",
            "Enter the employee ID : 198845\n",
            "Enter the branch : dsai\n",
            "Enter the salary : 15000\n",
            "\n",
            "Enter the data for employee 3  : \n",
            "Enter the name of the Employee : Rahul\n",
            "Enter the employee ID : 199201\n",
            "Enter the branch : ece\n",
            "Enter the salary : 14000\n",
            "\n",
            "Enter the data for employee 4  : \n",
            "Enter the name of the Employee : Pant\n",
            "Enter the employee ID : 199777\n",
            "Enter the branch : eee\n",
            "Enter the salary : 13000\n",
            "\n",
            "Enter the data for employee 5  : \n",
            "Enter the name of the Employee : Hardik\n",
            "Enter the employee ID : 199333\n",
            "Enter the branch : mech\n",
            "Enter the salary : 12000\n",
            "\n",
            "Data of employee 1  : \n",
            "Name:         {'Virat'}\n",
            "Employee ID:  {198918}\n",
            "Branch:       {'cse'}\n",
            "Salary:       {15000}\n",
            "\n",
            "Data of employee 2  : \n",
            "Name:         {'Rohit'}\n",
            "Employee ID:  {198845}\n",
            "Branch:       {'dsai'}\n",
            "Salary:       {15000}\n",
            "\n",
            "Data of employee 3  : \n",
            "Name:         {'Rahul'}\n",
            "Employee ID:  {199201}\n",
            "Branch:       {'ece'}\n",
            "Salary:       {14000}\n",
            "\n",
            "Data of employee 4  : \n",
            "Name:         {'Pant'}\n",
            "Employee ID:  {199777}\n",
            "Branch:       {'eee'}\n",
            "Salary:       {13000}\n",
            "\n",
            "Data of employee 5  : \n",
            "Name:         {'Hardik'}\n",
            "Employee ID:  {199333}\n",
            "Branch:       {'mech'}\n",
            "Salary:       {12000}\n"
          ]
        }
      ]
    },
    {
      "cell_type": "code",
      "metadata": {
        "colab": {
          "base_uri": "https://localhost:8080/",
          "height": 0
        },
        "id": "M5oEnPfygqcn",
        "outputId": "39129db5-235e-4052-fc2a-755d3c984ef7"
      },
      "source": [
        "#3rd question\n",
        "class Account:\n",
        "    def __init__(self, accNo, accHolder, amount):\n",
        "        self.accountNumber = accNo\n",
        "        self.accountHolder = accHolder\n",
        "        self.accountAmount = amount\n",
        "\n",
        "    def deposit(self):\n",
        "        depAmount = int(input(\"Enter the amount to deposit : \"))\n",
        "        self.accountAmount += depAmount\n",
        "        print(f\"Amount deposited : {depAmount}\")\n",
        "        print(f\"New Balance : {self.accountAmount}\")\n",
        "\n",
        "    def withdraw(self):\n",
        "        withAmount = int(input(\"Enter the amount to withdraw : \"))\n",
        "        if withAmount > self.accountAmount:\n",
        "            print(\"Your Account don't have sufficient ammount !!\")\n",
        "            return -1\n",
        "        self.accountAmount -= withAmount\n",
        "        print(f\"Amount withdraw : {withAmount}\")\n",
        "        print(f\"New Balance : {self.accountAmount}\")\n",
        "        return withAmount\n",
        "\n",
        "    def checkBalance(self):\n",
        "        print(f\"Balance : {self.accountAmount}\")\n",
        "        return self.accountAmount\n",
        "\n",
        "    def getAccDetails(self):\n",
        "        print(f\"Account Number : {self.accountNumber}\")\n",
        "        print(f\"Account Holder : {self.accountHolder}\") \n",
        "        print(f\"Balance : {self.accountAmount}\")\n",
        "        return self.accountNumber, self.accountHolder, self.accountAmount\n",
        "\n",
        "NewAccount = Account(97463623, \"Virat\", 10000)\n",
        "NewAccount.deposit()\n",
        "withdraw = NewAccount.withdraw()\n",
        "balance = NewAccount.checkBalance()\n",
        "print(\"**********Account Details********** \")\n",
        "details = NewAccount.getAccDetails()"
      ],
      "execution_count": 16,
      "outputs": [
        {
          "output_type": "stream",
          "name": "stdout",
          "text": [
            "Enter the amount to deposit : 2000\n",
            "Amount deposited : 2000\n",
            "New Balance : 12000\n",
            "Enter the amount to withdraw : 1000\n",
            "Amount withdraw : 1000\n",
            "New Balance : 11000\n",
            "Balance : 11000\n",
            "**********Account Details********** \n",
            "Account Number : 97463623\n",
            "Account Holder : Virat\n",
            "Balance : 11000\n"
          ]
        }
      ]
    },
    {
      "cell_type": "code",
      "metadata": {
        "colab": {
          "base_uri": "https://localhost:8080/",
          "height": 0
        },
        "id": "lPlbPbI-kDX6",
        "outputId": "99b2938b-0ef8-4ad8-f8c4-e50e90151100"
      },
      "source": [
        "#4th question\n",
        "class student():\n",
        "  def __init__(self,Name,USN,Marks):\n",
        "    self.Student_Name = Name\n",
        "    self.Student_USN = USN\n",
        "    self.Student_Marks = Marks\n",
        "  def Students_Name(self):\n",
        "    print(\"Student Name: \", self.Student_Name)\n",
        "  def Students_USN(self):\n",
        "    print(\"Student USN: \", self.Student_USN)\n",
        "  def Students_Marks(self):\n",
        "    print(\"Student Marks: \",self.Student_Marks)\n",
        "marks = []\n",
        "marks.append(97)   \n",
        "marks.append(90)\n",
        "marks.append(92)\n",
        "\n",
        "s1 = student(\"Virat\", 198851118, marks)\n",
        "s1.Students_Name()\n",
        "s1.Students_USN()\n",
        "s1.Students_Marks()"
      ],
      "execution_count": 17,
      "outputs": [
        {
          "output_type": "stream",
          "name": "stdout",
          "text": [
            "Student Name:  Virat\n",
            "Student USN:  198851118\n",
            "Student Marks:  [97, 90, 92]\n"
          ]
        }
      ]
    },
    {
      "cell_type": "code",
      "metadata": {
        "colab": {
          "base_uri": "https://localhost:8080/",
          "height": 0
        },
        "id": "GZ3b1PsNlX-s",
        "outputId": "4367e998-da19-4a77-8ca6-836d8005afdf"
      },
      "source": [
        "#5th question\n",
        "class Patient:\n",
        "  def __init__(self, name, admission_date, symptoms : list, oxygen_level, discharge_date):\n",
        "    self.name = name\n",
        "    self.admission_date = admission_date\n",
        "    self.symptoms = symptoms\n",
        "    self.oxygen_level = oxygen_level\n",
        "    self.discharge_date = discharge_date\n",
        "\n",
        "class Data:\n",
        "  def __init__(self):\n",
        "    self.oxygen_support = []\n",
        "    self.general_ward = []\n",
        "\n",
        "  def Patient(self, patient):\n",
        "    if (patient.oxygen_level < 90):\n",
        "      self.oxygen_support.append(patient)\n",
        "    else:\n",
        "      self.general_ward.append(patient)\n",
        "\n",
        "  def numberOxygen(self):\n",
        "    print(f\"Totaal number of patients needing oxygen support is {len(self.oxygen_support)}\")\n",
        "\n",
        "  def numberGeneral(self):\n",
        "    print(f\"Total number of patients in general ward is {len(self.general_ward)}\")\n",
        "\n",
        "  def totalPatients(self):\n",
        "    print(f\"Total number of patients is {len(self.general_ward)+len(self.oxygen_support)}\")\n",
        "\n",
        "  def patientInfo(self):\n",
        "    print(\"**********Patients in oxygen support**********\")\n",
        "    for patient in self.oxygen_support:\n",
        "      print(\"\\n\")\n",
        "      print(\"Name:\", patient.name)\n",
        "      print(\"Admission Date:\", patient.admission_date)\n",
        "      print(\"symptoms:\", patient.symptoms)\n",
        "      print(\"oxygen level:\", patient.oxygen_level)\n",
        "      print(\"Discharge Date:\", patient.discharge_date)\n",
        "      print(\"\\n\")\n",
        "\n",
        "    print(\"**********Patients in General ward**********\")\n",
        "    for patient in self.general_ward:\n",
        "      print(\"\\n\")\n",
        "      print(\"Name:\", patient.name)\n",
        "      print(\"Admission Date:\", patient.admission_date)\n",
        "      print(\"symptoms:\", patient.symptoms)\n",
        "      print(\"oxygen level:\", patient.oxygen_level)\n",
        "      print(\"Discharge Date:\", patient.discharge_date)\n",
        "      print(\"\\n\")\n",
        "\n",
        "patient1 = Patient(\"Virat\", \"14/09/2021\", [\"Fever\", \"Body Pains\"], 60, \"20/09/2021\")\n",
        "patient2 = Patient(\"Rohit\", \"15/09/2021\", [\"Headache\", \"Fever\"], 100, \"18/09/2021\")\n",
        "patient3 = Patient(\"Rahul\", \"16/09/2021\", [\"Stomach Pain\", \"Loose Motion\"], 120, \"21/09/2021\")\n",
        "patient4 = Patient(\"Pant\", \"16/09/2021\", [\"Low Platelet Count\", \"Blood Vomiting\"], 80, \"22/09/2021\")\n",
        "\n",
        "db = Data()\n",
        "db.Patient(patient1)\n",
        "db.Patient(patient2)\n",
        "db.Patient(patient3)\n",
        "db.Patient(patient4)\n",
        "db.patientInfo()\n",
        "db.numberOxygen()\n",
        "db.numberGeneral()\n",
        "db.totalPatients()"
      ],
      "execution_count": 18,
      "outputs": [
        {
          "output_type": "stream",
          "name": "stdout",
          "text": [
            "**********Patients in oxygen support**********\n",
            "\n",
            "\n",
            "Name: Virat\n",
            "Admission Date: 14/09/2021\n",
            "symptoms: ['Fever', 'Body Pains']\n",
            "oxygen level: 60\n",
            "Discharge Date: 20/09/2021\n",
            "\n",
            "\n",
            "\n",
            "\n",
            "Name: Pant\n",
            "Admission Date: 16/09/2021\n",
            "symptoms: ['Low Platelet Count', 'Blood Vomiting']\n",
            "oxygen level: 80\n",
            "Discharge Date: 22/09/2021\n",
            "\n",
            "\n",
            "**********Patients in General ward**********\n",
            "\n",
            "\n",
            "Name: Rohit\n",
            "Admission Date: 15/09/2021\n",
            "symptoms: ['Headache', 'Fever']\n",
            "oxygen level: 100\n",
            "Discharge Date: 18/09/2021\n",
            "\n",
            "\n",
            "\n",
            "\n",
            "Name: Rahul\n",
            "Admission Date: 16/09/2021\n",
            "symptoms: ['Stomach Pain', 'Loose Motion']\n",
            "oxygen level: 120\n",
            "Discharge Date: 21/09/2021\n",
            "\n",
            "\n",
            "Totaal number of patients needing oxygen support is 2\n",
            "Total number of patients in general ward is 2\n",
            "Total number of patients is 4\n"
          ]
        }
      ]
    },
    {
      "cell_type": "code",
      "metadata": {
        "colab": {
          "base_uri": "https://localhost:8080/",
          "height": 0
        },
        "id": "enVcRGyNqSTQ",
        "outputId": "ac48249d-49d7-45e5-cba0-141757d6731e"
      },
      "source": [
        "#6th question\n",
        "class time():\n",
        "  def __init__(self, hour = 0, minute = 0, second = 0):\n",
        "    self.hour = hour\n",
        "    self.minute = minute\n",
        "    self.second = second\n",
        "  def display(self):\n",
        "    print(\"Time :\",self.hour,\":\",self.minute,\":\",self.second)\n",
        "t = time()\n",
        "t.display()\n",
        "t.hour = 12\n",
        "t.minute = 45\n",
        "t.second = 30\n",
        "t.display()"
      ],
      "execution_count": 19,
      "outputs": [
        {
          "output_type": "stream",
          "name": "stdout",
          "text": [
            "Time : 0 : 0 : 0\n",
            "Time : 12 : 45 : 30\n"
          ]
        }
      ]
    },
    {
      "cell_type": "code",
      "metadata": {
        "colab": {
          "base_uri": "https://localhost:8080/",
          "height": 0
        },
        "id": "zFO5rKoLr3PW",
        "outputId": "6a2786d9-5a1d-442a-9591-3309207a8275"
      },
      "source": [
        "#7th question\n",
        "class students: \n",
        "    def __init__(self, name, age, roll_no):\n",
        "        self.name = name\n",
        "        self.age = age\n",
        "        self.roll_no = roll_no \n",
        "          \n",
        "    @classmethod\n",
        "    def compare(cls, s1, s2):\n",
        "        if s1.age == s2.age:\n",
        "            print(\"Age of the students are equal.\")\n",
        "        else:\n",
        "            print(\"Age of the students are not equal.\")\n",
        "\n",
        "s1 = students(\"Rahul\",21,33)\n",
        "s2 = students(\"Rohit\",22,74)\n",
        "students.compare(s1, s2)"
      ],
      "execution_count": 20,
      "outputs": [
        {
          "output_type": "stream",
          "name": "stdout",
          "text": [
            "Age of the students are not equal.\n"
          ]
        }
      ]
    },
    {
      "cell_type": "code",
      "metadata": {
        "colab": {
          "base_uri": "https://localhost:8080/",
          "height": 0
        },
        "id": "fB6-YE4lxjLX",
        "outputId": "9787b518-a7c4-434d-fce4-3cb469dcc939"
      },
      "source": [
        "#8th question\n",
        "class Student:\n",
        "    Sem = 3\n",
        "    Institute = \"IIIT Dharwad\"\n",
        "    \n",
        "    def __init__(self, Name, USN):\n",
        "      self.Name = Name\n",
        "      self.USN = USN  \n",
        "\n",
        "    def getInstanceVar(self):\n",
        "        print(f\"Name: {self.Name}\")\n",
        "        print(f\"USN: {self.USN}\")\n",
        "\n",
        "    @classmethod\n",
        "    def getClassVar(cls):\n",
        "        print(f\"Semester: {cls.Sem}\")\n",
        "        print(f\"Institute: {cls.Institute}\")\n",
        "\n",
        "    @staticmethod\n",
        "    def getExplanation():\n",
        "        print(\"'Sem, Institute (Class variables) are printed using Class Method' & 'Name, USN (Instance variables) are printed using Instance Method'\")\n",
        "\n",
        "\n",
        "s1 = Student(\"Nikhil\", 135)\n",
        "s1.getInstanceVar()\n",
        "Student.getClassVar()\n",
        "Student.getExplanation()"
      ],
      "execution_count": 21,
      "outputs": [
        {
          "output_type": "stream",
          "name": "stdout",
          "text": [
            "Name: Nikhil\n",
            "USN: 135\n",
            "Semester: 3\n",
            "Institute: IIIT Dharwad\n",
            "'Sem, Institute (Class variables) are printed using Class Method' & 'Name, USN (Instance variables) are printed using Instance Method'\n"
          ]
        }
      ]
    },
    {
      "cell_type": "code",
      "metadata": {
        "colab": {
          "base_uri": "https://localhost:8080/",
          "height": 0
        },
        "id": "MGdnXMIE1WE6",
        "outputId": "f0e590fa-e12f-4b3b-dc17-4c4b8c50ed71"
      },
      "source": [
        "#9th question\n",
        "class student:\n",
        "\n",
        "  def __init__(self, Name, Roll_number, semester, laptop_company, laptop_cpu, laptop_ram, laptop_hard_disk):\n",
        "    self.name = Name\n",
        "    self.roll_no = Roll_number\n",
        "    self.sem = semester\n",
        "    self.laptop = self.laptop(laptop_company, laptop_cpu, laptop_ram, laptop_hard_disk)\n",
        "\n",
        "\n",
        "  class laptop:\n",
        "    def __init__(self, company, cpu, ram : int, hard_disk):\n",
        "      self.company = company\n",
        "      self.cpu = cpu\n",
        "      self.ram = ram\n",
        "      self.hard_disk = hard_disk\n",
        "\n",
        "    def specifications(self):\n",
        "      print(\"Laptop Name:\", self.company)\n",
        "      print(\"Laptop CPU:\", self.cpu)\n",
        "      print(\"Laptop RAM:\", self.ram, \"GB\")\n",
        "      print(\"Laptop Hard disk:\", self.hard_disk)\n",
        "\n",
        "  def disp(self):\n",
        "    print(\"Name:\", self.name)\n",
        "    print(\"Roll Number:\", self.roll_no)\n",
        "    print(\"Sem:\", self.sem)\n",
        "    self.laptop.specifications()\n",
        "\n",
        "s1 = student(\"Nikhil\", 135 , 3, \"Asus Rog Strix G15 \", \"Intel i7\", 16, \"512 GB SSD\")\n",
        "s1.disp()"
      ],
      "execution_count": 22,
      "outputs": [
        {
          "output_type": "stream",
          "name": "stdout",
          "text": [
            "Name: Nikhil\n",
            "Roll Number: 135\n",
            "Sem: 3\n",
            "Laptop Name: Asus Rog Strix G15 \n",
            "Laptop CPU: Intel i7\n",
            "Laptop RAM: 16 GB\n",
            "Laptop Hard disk: 512 GB SSD\n"
          ]
        }
      ]
    }
  ]
}